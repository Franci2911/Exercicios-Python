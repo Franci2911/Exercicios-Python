{
 "cells": [
  {
   "cell_type": "markdown",
   "id": "591b8eaf",
   "metadata": {},
   "source": [
    "####  Python"
   ]
  },
  {
   "cell_type": "code",
   "execution_count": 5,
   "id": "75542794",
   "metadata": {},
   "outputs": [
    {
     "name": "stdout",
     "output_type": "stream",
     "text": [
      "Ola, mundo\n"
     ]
    }
   ],
   "source": [
    "print('Ola, mundo')"
   ]
  },
  {
   "cell_type": "code",
   "execution_count": 8,
   "id": "27ff84e9",
   "metadata": {},
   "outputs": [
    {
     "name": "stdout",
     "output_type": "stream",
     "text": [
      "Qual o nome do usuario: Fran\n",
      "Seja muito bem vindo, Fran\n"
     ]
    }
   ],
   "source": [
    "nome = input('Qual o nome do usuario: ')\n",
    "print(f'Seja muito bem vindo, {nome}')"
   ]
  }
 ],
 "metadata": {
  "kernelspec": {
   "display_name": "Python 3 (ipykernel)",
   "language": "python",
   "name": "python3"
  },
  "language_info": {
   "codemirror_mode": {
    "name": "ipython",
    "version": 3
   },
   "file_extension": ".py",
   "mimetype": "text/x-python",
   "name": "python",
   "nbconvert_exporter": "python",
   "pygments_lexer": "ipython3",
   "version": "3.10.6"
  }
 },
 "nbformat": 4,
 "nbformat_minor": 5
}
