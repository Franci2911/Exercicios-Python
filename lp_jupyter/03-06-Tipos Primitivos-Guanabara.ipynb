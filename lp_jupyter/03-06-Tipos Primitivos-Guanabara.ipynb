{
 "cells": [
  {
   "cell_type": "markdown",
   "id": "6023b285",
   "metadata": {},
   "source": [
    "Criar um programa que soma 2 numeros\n",
    "Faça um programa que leia algo e mostre o tipo primitivo e todas informações possiveis sobre ela "
   ]
  },
  {
   "cell_type": "code",
   "execution_count": 1,
   "id": "de0f7991",
   "metadata": {},
   "outputs": [
    {
     "name": "stdout",
     "output_type": "stream",
     "text": [
      "Digite um numero: 3\n",
      "Digite o segundo numero: 7\n",
      "A soma dos dois numeros é: 10\n"
     ]
    }
   ],
   "source": [
    "n1 = int(input('Digite um numero: '))\n",
    "n2 = int(input('Digite o segundo numero: '))\n",
    "soma = n1 + n2\n",
    "print(f'A soma dos dois numeros é: {soma}')"
   ]
  },
  {
   "cell_type": "code",
   "execution_count": 10,
   "id": "519d49d6",
   "metadata": {},
   "outputs": [
    {
     "name": "stdout",
     "output_type": "stream",
     "text": [
      "Digite algo:  \n",
      "O tipo digitado é: <class 'str'>\n",
      "é um numero: False\n",
      "é uma letra ou numero: False\n",
      "é uma letra: False\n",
      "é minuscula: False\n",
      "é maiuscula: False\n",
      "tem algum espaço entre caracter: True\n"
     ]
    }
   ],
   "source": [
    "v1 = input('Digite algo: ')\n",
    "print(f'O tipo digitado é: {type(v1)}')\n",
    "print(f'é um numero: {v1.isnumeric()}')\n",
    "print(f'é uma letra ou numero: {v1.isalnum()}')\n",
    "print(f'é uma letra: {v1.isalpha()}')\n",
    "print(f'é minuscula: {v1.islower()}')\n",
    "print(f'é maiuscula: {v1.isupper()}')\n",
    "print(f'tem algum espaço entre caracter: {v1.isspace()}')"
   ]
  }
 ],
 "metadata": {
  "kernelspec": {
   "display_name": "Python 3 (ipykernel)",
   "language": "python",
   "name": "python3"
  },
  "language_info": {
   "codemirror_mode": {
    "name": "ipython",
    "version": 3
   },
   "file_extension": ".py",
   "mimetype": "text/x-python",
   "name": "python",
   "nbconvert_exporter": "python",
   "pygments_lexer": "ipython3",
   "version": "3.10.6"
  }
 },
 "nbformat": 4,
 "nbformat_minor": 5
}
